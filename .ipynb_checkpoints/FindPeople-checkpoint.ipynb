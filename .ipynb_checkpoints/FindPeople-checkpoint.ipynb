{
 "cells": [
  {
   "cell_type": "markdown",
   "metadata": {},
   "source": [
    "# Transfer learning\n",
    "\n",
    "In parts 1 and 2 we learned [how to load and run a pre-trained CNN model on our own input](https://github.com/opetrova/TweakingInception/blob/master/GettingStarted.ipynb) and [how to visualize the layers](https://github.com/opetrova/TweakingInception/blob/master/VisualizeLayers.ipynb) of the CNN pre-trained for the purpose of image classification. \n",
    "\n",
    "The **pre** in *pre-trained* kind of implies that the training might not be over yet. Indeed, we can go ahead and simply use the pre-trained models for whatever purposes they were originally trained for, but what if we need something more customized? Consider the example of the [Inception CNN model also known as GoogLeNet](https://arxiv.org/abs/1409.4842). The model that has been made available by Google was trained to recognize 1000 categories used in the [ImageNet Challenge](https://en.wikipedia.org/wiki/ImageNet). This thousand happens to not include any labels like *human*, *people*, *girl*, *man*, etc. Can we still somehow use it to determine whether a given image contains people or not? Turns out, this can easily be done via something called **transfer learning**.\n",
    "\n",
    "### What is transfer learning?\n",
    "\n",
    "In transfer learning, one uses existing machine learning models to tackle new unsolved problems. This can work remarkably well, especially when the new problem and the one, that the existing model was originally built for, are similar enough.\n",
    "\n",
    "\n",
    "\n",
    "Take the pre-trained GoogLeNet and train the outer layer on http://pascal.inrialpes.fr/data/human/"
   ]
  },
  {
   "cell_type": "code",
   "execution_count": 1,
   "metadata": {},
   "outputs": [
    {
     "name": "stderr",
     "output_type": "stream",
     "text": [
      "C:\\Users\\Olga\\Anaconda3\\lib\\site-packages\\h5py\\__init__.py:36: FutureWarning: Conversion of the second argument of issubdtype from `float` to `np.floating` is deprecated. In future, it will be treated as `np.float64 == np.dtype(float).type`.\n",
      "  from ._conv import register_converters as _register_converters\n"
     ]
    }
   ],
   "source": [
    "import tensorflow as tf\n",
    "import numpy as np\n",
    "import os, os.path\n",
    "import PIL.Image\n",
    "from IPython.display import clear_output, Image, display\n",
    "from IPython.display import display\n",
    "%matplotlib inline\n",
    "import matplotlib\n",
    "import matplotlib.pyplot as plt\n",
    "import math\n",
    "#from IPython.display import Image as _Imgdis\n",
    "\n",
    "model_fn = 'tensorflow_inception_graph.pb'\n",
    "mygraph = tf.Graph() \n",
    "sess = tf.InteractiveSession(graph=mygraph)"
   ]
  },
  {
   "cell_type": "markdown",
   "metadata": {},
   "source": [
    "Get more data to train on by augmenting it https://github.com/mdbloice/Augmentor"
   ]
  },
  {
   "cell_type": "code",
   "execution_count": 2,
   "metadata": {},
   "outputs": [
    {
     "name": "stdout",
     "output_type": "stream",
     "text": [
      "Initialised with 614 image(s) found.\n",
      "Output directory set to INRIAPerson/Train/pos\\output."
     ]
    },
    {
     "name": "stderr",
     "output_type": "stream",
     "text": [
      "Processing <PIL.Image.Image image mode=RGB size=320x240 at 0x191867C57B8>: 100%|█| 500/500 [00:13<00:00, 36.98 Samples/s]\n"
     ]
    },
    {
     "name": "stdout",
     "output_type": "stream",
     "text": [
      "Initialised with 1218 image(s) found.\n",
      "Output directory set to INRIAPerson/Train/neg\\output."
     ]
    },
    {
     "name": "stderr",
     "output_type": "stream",
     "text": [
      "Processing <PIL.Image.Image image mode=RGB size=320x240 at 0x19186809F98>: 100%|█| 500/500 [00:05<00:00, 93.16 Samples/s]\n"
     ]
    }
   ],
   "source": [
    "# Get the training images ready to go\n",
    "\n",
    "import Augmentor\n",
    "\n",
    "def augment_set(path, num) :\n",
    "    p = Augmentor.Pipeline(path)\n",
    "    p.rotate(probability=0.7, max_left_rotation=25, max_right_rotation=25)\n",
    "    p.zoom(probability=0.5, min_factor=1.1, max_factor=1.5)\n",
    "    p.resize(probability=1.0, width=320, height=240)\n",
    "    p.sample(num)\n",
    "    return path + '/output'\n",
    "\n",
    "M_train = 1000\n",
    "pos_path = augment_set('INRIAPerson/Train/pos', int(M_train/2))\n",
    "neg_path = augment_set('INRIAPerson/Train/neg', int(M_train/2))"
   ]
  },
  {
   "cell_type": "markdown",
   "metadata": {},
   "source": [
    "Store the training images in a Numpy array"
   ]
  },
  {
   "cell_type": "code",
   "execution_count": 3,
   "metadata": {},
   "outputs": [
    {
     "name": "stdout",
     "output_type": "stream",
     "text": [
      "Number of training images:  1000\n"
     ]
    }
   ],
   "source": [
    "#pos_path ='INRIAPerson/Train/pos/output'\n",
    "#neg_path ='INRIAPerson/Train/neg/output'\n",
    "\n",
    "# Load the training data :\n",
    "pos_images = [f for f in os.listdir(pos_path) if os.path.isfile(os.path.join(pos_path, f))]\n",
    "neg_images = [f for f in os.listdir(neg_path) if os.path.isfile(os.path.join(neg_path, f))]\n",
    "\n",
    "pos_img_to_array = lambda img: np.array(PIL.Image.open(pos_path+'/'+img))\n",
    "neg_img_to_array = lambda img: np.array(PIL.Image.open(neg_path+'/'+img))\n",
    "\n",
    "pos_array = np.asarray(list(map(pos_img_to_array, pos_images)))\n",
    "neg_array = np.asarray(list(map(neg_img_to_array, neg_images)))\n",
    "\n",
    "X_train = np.concatenate((pos_array, neg_array), axis=0)\n",
    "Y_train = np.concatenate((np.ones((pos_array.shape[0],1)),np.zeros((neg_array.shape[0],1))),axis=0)\n",
    "M = X_train.shape[0]\n",
    "print(\"Number of training images: \", M)\n",
    "\n",
    "# Shuffle the training data\n",
    "p = np.random.permutation(M)\n",
    "X_train = X_train[p]\n",
    "Y_train = Y_train[p]"
   ]
  },
  {
   "cell_type": "markdown",
   "metadata": {},
   "source": [
    "Load the pre-trained Inception model"
   ]
  },
  {
   "cell_type": "code",
   "execution_count": 4,
   "metadata": {},
   "outputs": [],
   "source": [
    "with tf.gfile.FastGFile(model_fn, 'rb') as f: \n",
    "    graph_def = tf.GraphDef() \n",
    "    graph_def.ParseFromString(f.read())  \n",
    "\n",
    "X = tf.placeholder(np.float32, shape=(None, X_train.shape[1] , X_train.shape[2], 3), name='input')\n",
    "Y = tf.placeholder(np.float32, shape=(None, 1))\n",
    "\n",
    "tf.import_graph_def(graph_def, {'input': X})"
   ]
  },
  {
   "cell_type": "code",
   "execution_count": 5,
   "metadata": {},
   "outputs": [],
   "source": [
    "def random_mini_batches(X, Y, mini_batch_size = 64):\n",
    "    \"\"\"\n",
    "    Creates a list of random minibatches from (X, Y)\n",
    "    \n",
    "    Arguments:\n",
    "    X -- input data, of shape (input size, number of examples)\n",
    "    Y -- true \"label\" vector (containing 0 if cat, 1 if non-cat), of shape (1, number of examples)\n",
    "    mini_batch_size - size of the mini-batches, integer\n",
    "    seed -- this is only for the purpose of grading, so that you're \"random minibatches are the same as ours.\n",
    "    \n",
    "    Returns:\n",
    "    mini_batches -- list of synchronous (mini_batch_X, mini_batch_Y)\n",
    "    \"\"\"\n",
    "    \n",
    "    m = X.shape[0]                  # number of training examples\n",
    "    mini_batches = []\n",
    " \n",
    "    # Step 1: Shuffle (X, Y)\n",
    "    permutation = list(np.random.permutation(m))\n",
    "    shuffled_X = X[permutation,:]\n",
    "    shuffled_Y = Y[permutation,:]\n",
    "\n",
    "    # Step 2: Partition (shuffled_X, shuffled_Y). Minus the end case.\n",
    "    num_complete_minibatches = math.floor(m/mini_batch_size) # number of mini batches of size mini_batch_size in your partitionning\n",
    "    for k in range(0, num_complete_minibatches):\n",
    "        mini_batch_X = shuffled_X[k * mini_batch_size : k * mini_batch_size + mini_batch_size,:]\n",
    "        mini_batch_Y = shuffled_Y[k * mini_batch_size : k * mini_batch_size + mini_batch_size,:]\n",
    "        mini_batch = (mini_batch_X, mini_batch_Y)\n",
    "        mini_batches.append(mini_batch)\n",
    "    \n",
    "    # Handling the end case (last mini-batch < mini_batch_size)\n",
    "    if m % mini_batch_size != 0:\n",
    "        mini_batch_X = shuffled_X[num_complete_minibatches * mini_batch_size : m, :]\n",
    "        mini_batch_Y = shuffled_Y[num_complete_minibatches * mini_batch_size : m, :]\n",
    "        mini_batch = (mini_batch_X, mini_batch_Y)\n",
    "        mini_batches.append(mini_batch)\n",
    "    \n",
    "    return mini_batches"
   ]
  },
  {
   "cell_type": "markdown",
   "metadata": {},
   "source": [
    "Batch training"
   ]
  },
  {
   "cell_type": "code",
   "execution_count": 6,
   "metadata": {},
   "outputs": [
    {
     "data": {
      "image/png": "[encoded data removed]",
      "text/plain": [
       "<matplotlib.figure.Figure at 0x191854ff7f0>"
      ]
     },
     "metadata": {},
     "output_type": "display_data"
    },
    {
     "data": {
      "image/png": "[encoded data removed]",
      "text/plain": [
       "<matplotlib.figure.Figure at 0x191b15b9e10>"
      ]
     },
     "metadata": {},
     "output_type": "display_data"
    }
   ],
   "source": [
    "num_epochs = 4\n",
    "minibatch_size = 256\n",
    "\n",
    "num_minibatches = int(M / minibatch_size)\n",
    "\n",
    "pre_trained = mygraph.get_tensor_by_name('import/head1_pool:0')\n",
    "P = tf.contrib.layers.flatten(pre_trained)\n",
    "Z = tf.contrib.layers.fully_connected(P, activation_fn=None, num_outputs=1)\n",
    "cost = tf.reduce_mean(tf.nn.sigmoid_cross_entropy_with_logits(logits = Z, labels = Y))\n",
    "optimizer = tf.train.AdamOptimizer().minimize(cost)\n",
    "init = tf.global_variables_initializer()\n",
    "sess.run(init)\n",
    "\n",
    "epoch_costs = []\n",
    "batch_costs = []\n",
    "\n",
    "for epoch in range(num_epochs):\n",
    "        \n",
    "    epoch_cost = 0.\n",
    "    minibatches = random_mini_batches(X_train, Y_train, minibatch_size)\n",
    "\n",
    "    for minibatch in minibatches:\n",
    "        \n",
    "        # Select a minibatch\n",
    "        (minibatch_X, minibatch_Y) = minibatch\n",
    "        _ , batch_cost = sess.run([optimizer,cost], feed_dict = {X:minibatch_X, Y:minibatch_Y})\n",
    "        batch_costs.append(batch_cost)\n",
    "        epoch_cost += batch_cost \n",
    "        \n",
    "    epoch_costs.append(epoch_cost)\n",
    "    \n",
    "plt.plot(np.squeeze(epoch_costs))\n",
    "plt.show()\n",
    "plt.plot(np.squeeze(batch_costs))\n",
    "plt.show()"
   ]
  },
  {
   "cell_type": "markdown",
   "metadata": {},
   "source": [
    "Obtain the accuracy on the training set and the test set"
   ]
  },
  {
   "cell_type": "code",
   "execution_count": 7,
   "metadata": {},
   "outputs": [
    {
     "name": "stdout",
     "output_type": "stream",
     "text": [
      "Train accuracy:  97.39999771118164 %\n"
     ]
    }
   ],
   "source": [
    "predict_op = tf.round(tf.nn.sigmoid(Z))\n",
    "correct_prediction = tf.equal(predict_op, Y)\n",
    "    \n",
    "# Calculate accuracy on the train set\n",
    "accuracy = tf.reduce_mean(tf.cast(correct_prediction, \"float\"))\n",
    "train_accuracy = accuracy.eval({X: X_train, Y: Y_train})\n",
    "print(\"Train accuracy: \", 100*train_accuracy, \"%\")"
   ]
  },
  {
   "cell_type": "code",
   "execution_count": 13,
   "metadata": {},
   "outputs": [
    {
     "name": "stdout",
     "output_type": "stream",
     "text": [
      "Number of training images:  741\n"
     ]
    }
   ],
   "source": [
    "# Load the test images :\n",
    "pos_path ='INRIAPerson/Test/pos/JPEG'\n",
    "neg_path ='INRIAPerson/Test/neg/JPEG'\n",
    "\n",
    "pos_images = [f for f in os.listdir(pos_path) if os.path.isfile(os.path.join(pos_path, f))]\n",
    "neg_images = [f for f in os.listdir(neg_path) if os.path.isfile(os.path.join(neg_path, f))]\n",
    "\n",
    "pos_array = np.asarray(list(map(pos_img_to_array, pos_images)))\n",
    "neg_array = np.asarray(list(map(neg_img_to_array, neg_images)))\n",
    "\n",
    "X_test = np.concatenate((pos_array, neg_array), axis=0)\n",
    "Y_test = np.concatenate((np.ones((pos_array.shape[0],1)),np.zeros((neg_array.shape[0],1))),axis=0)\n",
    "M_test = X_test.shape[0]\n",
    "print(\"Number of training images: \", M_test)"
   ]
  },
  {
   "cell_type": "code",
   "execution_count": 14,
   "metadata": {},
   "outputs": [
    {
     "name": "stdout",
     "output_type": "stream",
     "text": [
      "Test accuracy:  96.0863709449768 %\n"
     ]
    }
   ],
   "source": [
    "# Calculate accuracy on the test set\n",
    "test_accuracy = accuracy.eval({X: X_test, Y: Y_test})\n",
    "print(\"Test accuracy: \", 100*test_accuracy, \"%\")"
   ]
  },
  {
   "cell_type": "markdown",
   "metadata": {},
   "source": [
    "Results"
   ]
  },
  {
   "cell_type": "code",
   "execution_count": null,
   "metadata": {},
   "outputs": [],
   "source": [
    "sess.close()"
   ]
  }
 ],
 "metadata": {
  "kernelspec": {
   "display_name": "Python 3",
   "language": "python",
   "name": "python3"
  },
  "language_info": {
   "codemirror_mode": {
    "name": "ipython",
    "version": 3
   },
   "file_extension": ".py",
   "mimetype": "text/x-python",
   "name": "python",
   "nbconvert_exporter": "python",
   "pygments_lexer": "ipython3",
   "version": "3.6.4"
  }
 },
 "nbformat": 4,
 "nbformat_minor": 2
}
